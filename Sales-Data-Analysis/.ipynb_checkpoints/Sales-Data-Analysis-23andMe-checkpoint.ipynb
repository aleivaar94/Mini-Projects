{
 "cells": [
  {
   "cell_type": "markdown",
   "id": "dc22f5c0-89c7-4558-a862-7bb8a7c144a0",
   "metadata": {},
   "source": [
    "# Sales Data Analysis\n",
    "\n",
    "This is a simulated take-home assignment in the recruitment process for the data science positions.\n",
    "\n",
    "### Assignment\n",
    "Please answer the questions below based on the data provided:\n",
    "\n",
    "1. Plot daily sales for all 50 weeks.\n",
    "2. It looks like there has been a sudden change in daily sales. What date did it occur?\n",
    "3. Is the change in daily sales at the date you selected statistically significant? If so, what is the p-value?\n",
    "4. Does the data suggest that the change in daily sales is due to a shift in the proportion of male-vs-female customers? Please use plots to support your answer (a rigorous statistical analysis is not necessary).\n",
    "5. Assume a given day is divided into four dayparts:\n",
    "- night (12:00AM - 6:00AM),\n",
    "- morning (6:00AM - 12:00PM),\n",
    "- afternoon (12:00PM - 6:00PM),\n",
    "- evening (6:00PM - 12:00AM).\n",
    "\n",
    "What is the percentage of sales in each daypart over all 50 weeks?\n",
    "\n",
    "### Data Description\n",
    "The datasets/ directory contains fifty CSV files (one per week) of timestamped sales data. Each row in a file has two columns:\n",
    "\n",
    "`sale_time` - The timestamp on which the sale was made e.g. 2012-10-01 01:42:22\n",
    "\n",
    "`purchaser_gender` - The gender of the person who purchased (male or female)"
   ]
  },
  {
   "cell_type": "markdown",
   "id": "60556342-6cf1-4e75-8b31-b54bf39f1ca6",
   "metadata": {},
   "source": [
    "# Data Prep"
   ]
  },
  {
   "cell_type": "code",
   "execution_count": 1,
   "id": "601803c6-4bfe-4058-8ae6-6d4ba3665bc8",
   "metadata": {},
   "outputs": [],
   "source": [
    "import pandas as pd\n",
    "import seaborn as sns\n",
    "import matplotlib.pyplot as plt\n",
    "import glob\n",
    "\n",
    "l = [pd.read_csv(filename) for filename in glob.glob(r\"C:\\Users\\Ale\\Documents\\Data-Science-Projects\\StrataScratch\\Sales-Data-Analysis-23andMe\\datasets\\sales_week_starting_*.csv\")]\n",
    "\n",
    "df = pd.concat(l, axis=0, ignore_index=True)"
   ]
  },
  {
   "cell_type": "code",
   "execution_count": 2,
   "id": "cb4c59ea-c5d7-45fe-8a6d-ffdc8d043b65",
   "metadata": {},
   "outputs": [
    {
     "data": {
      "text/html": [
       "<div>\n",
       "<style scoped>\n",
       "    .dataframe tbody tr th:only-of-type {\n",
       "        vertical-align: middle;\n",
       "    }\n",
       "\n",
       "    .dataframe tbody tr th {\n",
       "        vertical-align: top;\n",
       "    }\n",
       "\n",
       "    .dataframe thead th {\n",
       "        text-align: right;\n",
       "    }\n",
       "</style>\n",
       "<table border=\"1\" class=\"dataframe\">\n",
       "  <thead>\n",
       "    <tr style=\"text-align: right;\">\n",
       "      <th></th>\n",
       "      <th>sale_time</th>\n",
       "      <th>purchaser_gender</th>\n",
       "    </tr>\n",
       "  </thead>\n",
       "  <tbody>\n",
       "    <tr>\n",
       "      <th>0</th>\n",
       "      <td>2012-10-01 01:42:22</td>\n",
       "      <td>female</td>\n",
       "    </tr>\n",
       "    <tr>\n",
       "      <th>1</th>\n",
       "      <td>2012-10-01 02:24:53</td>\n",
       "      <td>female</td>\n",
       "    </tr>\n",
       "    <tr>\n",
       "      <th>2</th>\n",
       "      <td>2012-10-01 02:25:40</td>\n",
       "      <td>female</td>\n",
       "    </tr>\n",
       "    <tr>\n",
       "      <th>3</th>\n",
       "      <td>2012-10-01 02:30:42</td>\n",
       "      <td>female</td>\n",
       "    </tr>\n",
       "    <tr>\n",
       "      <th>4</th>\n",
       "      <td>2012-10-01 02:51:32</td>\n",
       "      <td>male</td>\n",
       "    </tr>\n",
       "    <tr>\n",
       "      <th>...</th>\n",
       "      <td>...</td>\n",
       "      <td>...</td>\n",
       "    </tr>\n",
       "    <tr>\n",
       "      <th>204324</th>\n",
       "      <td>2013-09-15 23:30:51</td>\n",
       "      <td>female</td>\n",
       "    </tr>\n",
       "    <tr>\n",
       "      <th>204325</th>\n",
       "      <td>2013-09-15 23:42:02</td>\n",
       "      <td>female</td>\n",
       "    </tr>\n",
       "    <tr>\n",
       "      <th>204326</th>\n",
       "      <td>2013-09-15 23:43:24</td>\n",
       "      <td>male</td>\n",
       "    </tr>\n",
       "    <tr>\n",
       "      <th>204327</th>\n",
       "      <td>2013-09-15 23:43:32</td>\n",
       "      <td>male</td>\n",
       "    </tr>\n",
       "    <tr>\n",
       "      <th>204328</th>\n",
       "      <td>2013-09-15 23:48:47</td>\n",
       "      <td>male</td>\n",
       "    </tr>\n",
       "  </tbody>\n",
       "</table>\n",
       "<p>204329 rows × 2 columns</p>\n",
       "</div>"
      ],
      "text/plain": [
       "                  sale_time purchaser_gender\n",
       "0       2012-10-01 01:42:22           female\n",
       "1       2012-10-01 02:24:53           female\n",
       "2       2012-10-01 02:25:40           female\n",
       "3       2012-10-01 02:30:42           female\n",
       "4       2012-10-01 02:51:32             male\n",
       "...                     ...              ...\n",
       "204324  2013-09-15 23:30:51           female\n",
       "204325  2013-09-15 23:42:02           female\n",
       "204326  2013-09-15 23:43:24             male\n",
       "204327  2013-09-15 23:43:32             male\n",
       "204328  2013-09-15 23:48:47             male\n",
       "\n",
       "[204329 rows x 2 columns]"
      ]
     },
     "execution_count": 2,
     "metadata": {},
     "output_type": "execute_result"
    }
   ],
   "source": [
    "df"
   ]
  },
  {
   "cell_type": "code",
   "execution_count": 3,
   "id": "39580744-9b52-4edd-9e5a-d595e470608a",
   "metadata": {},
   "outputs": [
    {
     "name": "stdout",
     "output_type": "stream",
     "text": [
      "<class 'pandas.core.frame.DataFrame'>\n",
      "RangeIndex: 204329 entries, 0 to 204328\n",
      "Data columns (total 2 columns):\n",
      " #   Column            Non-Null Count   Dtype \n",
      "---  ------            --------------   ----- \n",
      " 0   sale_time         204329 non-null  object\n",
      " 1   purchaser_gender  204329 non-null  object\n",
      "dtypes: object(2)\n",
      "memory usage: 3.1+ MB\n"
     ]
    }
   ],
   "source": [
    "df.info()"
   ]
  },
  {
   "cell_type": "code",
   "execution_count": 4,
   "id": "24891b60-7e43-4acd-a489-f3089070d81b",
   "metadata": {},
   "outputs": [],
   "source": [
    "df['sale_time'] = pd.to_datetime(df.sale_time, format='%Y-%m-%d %H:%M:%S')"
   ]
  },
  {
   "cell_type": "code",
   "execution_count": 5,
   "id": "63291bae-cffc-445a-ad47-e876aa76d2c1",
   "metadata": {},
   "outputs": [
    {
     "name": "stdout",
     "output_type": "stream",
     "text": [
      "<class 'pandas.core.frame.DataFrame'>\n",
      "RangeIndex: 204329 entries, 0 to 204328\n",
      "Data columns (total 2 columns):\n",
      " #   Column            Non-Null Count   Dtype         \n",
      "---  ------            --------------   -----         \n",
      " 0   sale_time         204329 non-null  datetime64[ns]\n",
      " 1   purchaser_gender  204329 non-null  object        \n",
      "dtypes: datetime64[ns](1), object(1)\n",
      "memory usage: 3.1+ MB\n"
     ]
    }
   ],
   "source": [
    "df.info()"
   ]
  },
  {
   "cell_type": "markdown",
   "id": "263b707d-5f27-4188-85e5-6702ac39cf89",
   "metadata": {},
   "source": [
    "# 1. Plot daily sales for all 50 weeks."
   ]
  },
  {
   "cell_type": "code",
   "execution_count": 6,
   "id": "2f5d7600-50ac-48db-b726-21c009b55db2",
   "metadata": {},
   "outputs": [
    {
     "data": {
      "text/html": [
       "<div>\n",
       "<style scoped>\n",
       "    .dataframe tbody tr th:only-of-type {\n",
       "        vertical-align: middle;\n",
       "    }\n",
       "\n",
       "    .dataframe tbody tr th {\n",
       "        vertical-align: top;\n",
       "    }\n",
       "\n",
       "    .dataframe thead th {\n",
       "        text-align: right;\n",
       "    }\n",
       "</style>\n",
       "<table border=\"1\" class=\"dataframe\">\n",
       "  <thead>\n",
       "    <tr style=\"text-align: right;\">\n",
       "      <th></th>\n",
       "      <th>sale_day</th>\n",
       "      <th>count_transactions</th>\n",
       "    </tr>\n",
       "  </thead>\n",
       "  <tbody>\n",
       "    <tr>\n",
       "      <th>0</th>\n",
       "      <td>2012-10-01</td>\n",
       "      <td>514</td>\n",
       "    </tr>\n",
       "    <tr>\n",
       "      <th>1</th>\n",
       "      <td>2012-10-02</td>\n",
       "      <td>482</td>\n",
       "    </tr>\n",
       "    <tr>\n",
       "      <th>2</th>\n",
       "      <td>2012-10-03</td>\n",
       "      <td>499</td>\n",
       "    </tr>\n",
       "    <tr>\n",
       "      <th>3</th>\n",
       "      <td>2012-10-04</td>\n",
       "      <td>546</td>\n",
       "    </tr>\n",
       "    <tr>\n",
       "      <th>4</th>\n",
       "      <td>2012-10-05</td>\n",
       "      <td>476</td>\n",
       "    </tr>\n",
       "    <tr>\n",
       "      <th>...</th>\n",
       "      <td>...</td>\n",
       "      <td>...</td>\n",
       "    </tr>\n",
       "    <tr>\n",
       "      <th>345</th>\n",
       "      <td>2013-09-11</td>\n",
       "      <td>719</td>\n",
       "    </tr>\n",
       "    <tr>\n",
       "      <th>346</th>\n",
       "      <td>2013-09-12</td>\n",
       "      <td>735</td>\n",
       "    </tr>\n",
       "    <tr>\n",
       "      <th>347</th>\n",
       "      <td>2013-09-13</td>\n",
       "      <td>743</td>\n",
       "    </tr>\n",
       "    <tr>\n",
       "      <th>348</th>\n",
       "      <td>2013-09-14</td>\n",
       "      <td>655</td>\n",
       "    </tr>\n",
       "    <tr>\n",
       "      <th>349</th>\n",
       "      <td>2013-09-15</td>\n",
       "      <td>752</td>\n",
       "    </tr>\n",
       "  </tbody>\n",
       "</table>\n",
       "<p>350 rows × 2 columns</p>\n",
       "</div>"
      ],
      "text/plain": [
       "      sale_day  count_transactions\n",
       "0   2012-10-01                 514\n",
       "1   2012-10-02                 482\n",
       "2   2012-10-03                 499\n",
       "3   2012-10-04                 546\n",
       "4   2012-10-05                 476\n",
       "..         ...                 ...\n",
       "345 2013-09-11                 719\n",
       "346 2013-09-12                 735\n",
       "347 2013-09-13                 743\n",
       "348 2013-09-14                 655\n",
       "349 2013-09-15                 752\n",
       "\n",
       "[350 rows x 2 columns]"
      ]
     },
     "execution_count": 6,
     "metadata": {},
     "output_type": "execute_result"
    }
   ],
   "source": [
    "daily_sales_df = df['sale_time'].groupby(df.sale_time.dt.floor('D')).size().reset_index(name='sale_amount')\n",
    "daily_sales_df.rename(columns={'sale_time':'sale_day', 'sale_amount': 'count_transactions'}, inplace=True)\n",
    "daily_sales_df"
   ]
  },
  {
   "cell_type": "code",
   "execution_count": 7,
   "id": "d382026a-fc88-40ed-a0a1-6d569db1fcd2",
   "metadata": {},
   "outputs": [
    {
     "data": {
      "text/plain": [
       "Text(0.5, 1.0, 'Daily sales over 50 weeks')"
      ]
     },
     "execution_count": 7,
     "metadata": {},
     "output_type": "execute_result"
    },
    {
     "data": {
      "image/png": "[encoded data removed]",
      "text/plain": [
       "<Figure size 432x288 with 1 Axes>"
      ]
     },
     "metadata": {
      "needs_background": "light"
     },
     "output_type": "display_data"
    }
   ],
   "source": [
    "sns.lineplot(data=daily_sales_df, x='sale_day', y='count_transactions')\n",
    "\n",
    "plt.title('Daily sales over 50 weeks')"
   ]
  },
  {
   "cell_type": "code",
   "execution_count": 8,
   "id": "3559de76-2c05-4c4c-af31-cbc126e4c205",
   "metadata": {},
   "outputs": [
    {
     "data": {
      "text/plain": [
       "Text(0.5, 1.0, 'Daily sales over 50 weeks')"
      ]
     },
     "execution_count": 8,
     "metadata": {},
     "output_type": "execute_result"
    },
    {
     "data": {
      "image/png": "[encoded data removed]",
      "text/plain": [
       "<Figure size 432x288 with 1 Axes>"
      ]
     },
     "metadata": {
      "needs_background": "light"
     },
     "output_type": "display_data"
    }
   ],
   "source": [
    "import matplotlib.pyplot as plt\n",
    "\n",
    "ax = daily_sales_df.plot(x='sale_day', y='count_transactions')\n",
    "\n",
    "xcoords = ['2012-10-01','2012-11-01','2012-12-01',\n",
    "           '2013-01-07', '2013-02-01','2013-03-01', \n",
    "           '2013-04-01', '2013-05-01', '2013-06-01', \n",
    "           '2013-07-01', '2013-08-01', '2013-09-01']\n",
    "\n",
    "for xc in xcoords:\n",
    "    plt.axvline(x=xc, color='black', linestyle='--')\n",
    "    \n",
    "plt.title('Daily sales over 50 weeks')"
   ]
  },
  {
   "cell_type": "markdown",
   "id": "e1ee53cd-db63-4414-8204-aa0c17a3db16",
   "metadata": {},
   "source": [
    "# 2. From the plot, there's a sudden change in daily sales. When did it occur?"
   ]
  },
  {
   "cell_type": "code",
   "execution_count": 9,
   "id": "254ba303-f20e-41a5-8cf9-2229456e99da",
   "metadata": {},
   "outputs": [
    {
     "data": {
      "text/plain": [
       "Index(['sale_day', 'count_transactions'], dtype='object')"
      ]
     },
     "execution_count": 9,
     "metadata": {},
     "output_type": "execute_result"
    }
   ],
   "source": [
    "daily_sales_df.columns"
   ]
  },
  {
   "cell_type": "markdown",
   "id": "275f9109-7058-4be1-9c64-7e60da8d7abc",
   "metadata": {},
   "source": [
    "To identify the day, the difference in `count_transactions` with the previous day is calculated. The day with the \"sudden change\" in sales is the one with the biggest difference. "
   ]
  },
  {
   "cell_type": "code",
   "execution_count": 10,
   "id": "831e399c-80ef-4fd7-8eb7-71fc268d92e0",
   "metadata": {},
   "outputs": [
    {
     "data": {
      "text/html": [
       "<div>\n",
       "<style scoped>\n",
       "    .dataframe tbody tr th:only-of-type {\n",
       "        vertical-align: middle;\n",
       "    }\n",
       "\n",
       "    .dataframe tbody tr th {\n",
       "        vertical-align: top;\n",
       "    }\n",
       "\n",
       "    .dataframe thead th {\n",
       "        text-align: right;\n",
       "    }\n",
       "</style>\n",
       "<table border=\"1\" class=\"dataframe\">\n",
       "  <thead>\n",
       "    <tr style=\"text-align: right;\">\n",
       "      <th></th>\n",
       "      <th>sale_day</th>\n",
       "      <th>count_transactions</th>\n",
       "      <th>prev_day_sale_count</th>\n",
       "    </tr>\n",
       "  </thead>\n",
       "  <tbody>\n",
       "    <tr>\n",
       "      <th>0</th>\n",
       "      <td>2012-10-01</td>\n",
       "      <td>514</td>\n",
       "      <td>NaN</td>\n",
       "    </tr>\n",
       "    <tr>\n",
       "      <th>1</th>\n",
       "      <td>2012-10-02</td>\n",
       "      <td>482</td>\n",
       "      <td>-32.0</td>\n",
       "    </tr>\n",
       "    <tr>\n",
       "      <th>2</th>\n",
       "      <td>2012-10-03</td>\n",
       "      <td>499</td>\n",
       "      <td>17.0</td>\n",
       "    </tr>\n",
       "    <tr>\n",
       "      <th>3</th>\n",
       "      <td>2012-10-04</td>\n",
       "      <td>546</td>\n",
       "      <td>47.0</td>\n",
       "    </tr>\n",
       "    <tr>\n",
       "      <th>4</th>\n",
       "      <td>2012-10-05</td>\n",
       "      <td>476</td>\n",
       "      <td>-70.0</td>\n",
       "    </tr>\n",
       "    <tr>\n",
       "      <th>...</th>\n",
       "      <td>...</td>\n",
       "      <td>...</td>\n",
       "      <td>...</td>\n",
       "    </tr>\n",
       "    <tr>\n",
       "      <th>345</th>\n",
       "      <td>2013-09-11</td>\n",
       "      <td>719</td>\n",
       "      <td>4.0</td>\n",
       "    </tr>\n",
       "    <tr>\n",
       "      <th>346</th>\n",
       "      <td>2013-09-12</td>\n",
       "      <td>735</td>\n",
       "      <td>16.0</td>\n",
       "    </tr>\n",
       "    <tr>\n",
       "      <th>347</th>\n",
       "      <td>2013-09-13</td>\n",
       "      <td>743</td>\n",
       "      <td>8.0</td>\n",
       "    </tr>\n",
       "    <tr>\n",
       "      <th>348</th>\n",
       "      <td>2013-09-14</td>\n",
       "      <td>655</td>\n",
       "      <td>-88.0</td>\n",
       "    </tr>\n",
       "    <tr>\n",
       "      <th>349</th>\n",
       "      <td>2013-09-15</td>\n",
       "      <td>752</td>\n",
       "      <td>97.0</td>\n",
       "    </tr>\n",
       "  </tbody>\n",
       "</table>\n",
       "<p>350 rows × 3 columns</p>\n",
       "</div>"
      ],
      "text/plain": [
       "      sale_day  count_transactions  prev_day_sale_count\n",
       "0   2012-10-01                 514                  NaN\n",
       "1   2012-10-02                 482                -32.0\n",
       "2   2012-10-03                 499                 17.0\n",
       "3   2012-10-04                 546                 47.0\n",
       "4   2012-10-05                 476                -70.0\n",
       "..         ...                 ...                  ...\n",
       "345 2013-09-11                 719                  4.0\n",
       "346 2013-09-12                 735                 16.0\n",
       "347 2013-09-13                 743                  8.0\n",
       "348 2013-09-14                 655                -88.0\n",
       "349 2013-09-15                 752                 97.0\n",
       "\n",
       "[350 rows x 3 columns]"
      ]
     },
     "execution_count": 10,
     "metadata": {},
     "output_type": "execute_result"
    }
   ],
   "source": [
    "daily_sales_df['prev_day_sale_count'] = daily_sales_df.count_transactions.diff()\n",
    "daily_sales_df"
   ]
  },
  {
   "cell_type": "markdown",
   "id": "426a6e82-c12e-4a97-a200-8415c8b15a53",
   "metadata": {},
   "source": [
    "## Another way to solve\n",
    "\n",
    "Since we do not know the previous day data of the first row in our data set, we can use None.\n",
    "\n",
    "The last sales_amount is the previous day's sales amount of a date (2013-09-15) not in the dataset, so we won't use it."
   ]
  },
  {
   "cell_type": "code",
   "execution_count": 11,
   "id": "db4706dc-a565-4fb6-812b-d139bfe7a0ff",
   "metadata": {},
   "outputs": [],
   "source": [
    "# # Another way to solve\n",
    "# daily_sales_df['prev_day_sale_amount'] = [None] + daily_sales_df['count_transactions'].to_list()[:-1]\n",
    "\n",
    "# daily_sales_df['difference_btw_prev_day'] = daily_sales_df['count_transactions'] - daily_sales_df['prev_day_sale_amount']\n",
    "# daily_sales_df.head()"
   ]
  },
  {
   "cell_type": "markdown",
   "id": "18962025-14c3-4bf0-bb34-e97aa0ebd4b3",
   "metadata": {},
   "source": [
    "### The date of sudden change is '2013-04-29'"
   ]
  },
  {
   "cell_type": "code",
   "execution_count": 12,
   "id": "51d0e356-c9e7-4499-ad59-0fc5422bb4cf",
   "metadata": {},
   "outputs": [
    {
     "data": {
      "text/html": [
       "<div>\n",
       "<style scoped>\n",
       "    .dataframe tbody tr th:only-of-type {\n",
       "        vertical-align: middle;\n",
       "    }\n",
       "\n",
       "    .dataframe tbody tr th {\n",
       "        vertical-align: top;\n",
       "    }\n",
       "\n",
       "    .dataframe thead th {\n",
       "        text-align: right;\n",
       "    }\n",
       "</style>\n",
       "<table border=\"1\" class=\"dataframe\">\n",
       "  <thead>\n",
       "    <tr style=\"text-align: right;\">\n",
       "      <th></th>\n",
       "      <th>sale_day</th>\n",
       "      <th>count_transactions</th>\n",
       "      <th>prev_day_sale_count</th>\n",
       "    </tr>\n",
       "  </thead>\n",
       "  <tbody>\n",
       "    <tr>\n",
       "      <th>210</th>\n",
       "      <td>2013-04-29</td>\n",
       "      <td>732</td>\n",
       "      <td>274.0</td>\n",
       "    </tr>\n",
       "  </tbody>\n",
       "</table>\n",
       "</div>"
      ],
      "text/plain": [
       "      sale_day  count_transactions  prev_day_sale_count\n",
       "210 2013-04-29                 732                274.0"
      ]
     },
     "execution_count": 12,
     "metadata": {},
     "output_type": "execute_result"
    }
   ],
   "source": [
    "daily_sales_df[daily_sales_df.prev_day_sale_count == daily_sales_df.prev_day_sale_count.max()]"
   ]
  },
  {
   "cell_type": "markdown",
   "id": "eeb4957b-681a-4c3d-8a51-fb7713026f76",
   "metadata": {},
   "source": [
    "This is confirmed by checking the 10 rows before and after this date. Also, from the above plots, the sudden change ocurred just before May or month 05 of 2013."
   ]
  },
  {
   "cell_type": "code",
   "execution_count": 13,
   "id": "a3da7c50-700a-40a2-a40d-8d46e16ad2b5",
   "metadata": {},
   "outputs": [
    {
     "data": {
      "text/html": [
       "<div>\n",
       "<style scoped>\n",
       "    .dataframe tbody tr th:only-of-type {\n",
       "        vertical-align: middle;\n",
       "    }\n",
       "\n",
       "    .dataframe tbody tr th {\n",
       "        vertical-align: top;\n",
       "    }\n",
       "\n",
       "    .dataframe thead th {\n",
       "        text-align: right;\n",
       "    }\n",
       "</style>\n",
       "<table border=\"1\" class=\"dataframe\">\n",
       "  <thead>\n",
       "    <tr style=\"text-align: right;\">\n",
       "      <th></th>\n",
       "      <th>sale_day</th>\n",
       "      <th>count_transactions</th>\n",
       "      <th>prev_day_sale_count</th>\n",
       "    </tr>\n",
       "  </thead>\n",
       "  <tbody>\n",
       "    <tr>\n",
       "      <th>205</th>\n",
       "      <td>2013-04-24</td>\n",
       "      <td>487</td>\n",
       "      <td>15.0</td>\n",
       "    </tr>\n",
       "    <tr>\n",
       "      <th>206</th>\n",
       "      <td>2013-04-25</td>\n",
       "      <td>498</td>\n",
       "      <td>11.0</td>\n",
       "    </tr>\n",
       "    <tr>\n",
       "      <th>207</th>\n",
       "      <td>2013-04-26</td>\n",
       "      <td>480</td>\n",
       "      <td>-18.0</td>\n",
       "    </tr>\n",
       "    <tr>\n",
       "      <th>208</th>\n",
       "      <td>2013-04-27</td>\n",
       "      <td>489</td>\n",
       "      <td>9.0</td>\n",
       "    </tr>\n",
       "    <tr>\n",
       "      <th>209</th>\n",
       "      <td>2013-04-28</td>\n",
       "      <td>458</td>\n",
       "      <td>-31.0</td>\n",
       "    </tr>\n",
       "    <tr>\n",
       "      <th>210</th>\n",
       "      <td>2013-04-29</td>\n",
       "      <td>732</td>\n",
       "      <td>274.0</td>\n",
       "    </tr>\n",
       "    <tr>\n",
       "      <th>211</th>\n",
       "      <td>2013-04-30</td>\n",
       "      <td>732</td>\n",
       "      <td>0.0</td>\n",
       "    </tr>\n",
       "    <tr>\n",
       "      <th>212</th>\n",
       "      <td>2013-05-01</td>\n",
       "      <td>709</td>\n",
       "      <td>-23.0</td>\n",
       "    </tr>\n",
       "    <tr>\n",
       "      <th>213</th>\n",
       "      <td>2013-05-02</td>\n",
       "      <td>744</td>\n",
       "      <td>35.0</td>\n",
       "    </tr>\n",
       "    <tr>\n",
       "      <th>214</th>\n",
       "      <td>2013-05-03</td>\n",
       "      <td>647</td>\n",
       "      <td>-97.0</td>\n",
       "    </tr>\n",
       "    <tr>\n",
       "      <th>215</th>\n",
       "      <td>2013-05-04</td>\n",
       "      <td>707</td>\n",
       "      <td>60.0</td>\n",
       "    </tr>\n",
       "  </tbody>\n",
       "</table>\n",
       "</div>"
      ],
      "text/plain": [
       "      sale_day  count_transactions  prev_day_sale_count\n",
       "205 2013-04-24                 487                 15.0\n",
       "206 2013-04-25                 498                 11.0\n",
       "207 2013-04-26                 480                -18.0\n",
       "208 2013-04-27                 489                  9.0\n",
       "209 2013-04-28                 458                -31.0\n",
       "210 2013-04-29                 732                274.0\n",
       "211 2013-04-30                 732                  0.0\n",
       "212 2013-05-01                 709                -23.0\n",
       "213 2013-05-02                 744                 35.0\n",
       "214 2013-05-03                 647                -97.0\n",
       "215 2013-05-04                 707                 60.0"
      ]
     },
     "execution_count": 13,
     "metadata": {},
     "output_type": "execute_result"
    }
   ],
   "source": [
    "daily_sales_df.iloc[205:216]"
   ]
  },
  {
   "cell_type": "markdown",
   "id": "9ddeb3a3-20d6-48a4-a018-b3ec32ce43e2",
   "metadata": {},
   "source": [
    "# 3. Is the change in daily sales at the date you selected statistically significant? If so, what is the p-value?"
   ]
  },
  {
   "cell_type": "markdown",
   "id": "94131739-6864-420c-bf94-5353a55dce78",
   "metadata": {},
   "source": [
    "#### The change in sales on 2103-04-29 is statistically significant. p-value < 0.05"
   ]
  },
  {
   "cell_type": "code",
   "execution_count": 14,
   "id": "c76aa235-c0a3-463d-afa4-12cb592ce3d3",
   "metadata": {},
   "outputs": [
    {
     "name": "stdout",
     "output_type": "stream",
     "text": [
      "t-stat: -26.273266340051002\n",
      "p-value: 1.3019593251472396e-84\n"
     ]
    }
   ],
   "source": [
    "from scipy.stats import ttest_1samp\n",
    "\n",
    "# Drop NaN values so they are not considered as 0\n",
    "daily_sales_df.dropna(inplace=True)\n",
    "\n",
    "tstat, p_value = ttest_1samp(daily_sales_df.count_transactions, 732)\n",
    "\n",
    "print('t-stat:', tstat)\n",
    "print('p-value:' , p_value)"
   ]
  },
  {
   "cell_type": "markdown",
   "id": "44d26dc2-2ee4-4f79-b356-5f61e83b973f",
   "metadata": {},
   "source": [
    "# 4. Does the data suggest that the change in daily sales is due to a shift in the proportion of male-vs-female customers? Please use plots to support your answer (a rigorous statistical analysis is not necessary)."
   ]
  },
  {
   "cell_type": "code",
   "execution_count": 15,
   "id": "17fdc396-e0c2-4c62-b758-ee0b561d3bf4",
   "metadata": {},
   "outputs": [
    {
     "data": {
      "text/html": [
       "<div>\n",
       "<style scoped>\n",
       "    .dataframe tbody tr th:only-of-type {\n",
       "        vertical-align: middle;\n",
       "    }\n",
       "\n",
       "    .dataframe tbody tr th {\n",
       "        vertical-align: top;\n",
       "    }\n",
       "\n",
       "    .dataframe thead th {\n",
       "        text-align: right;\n",
       "    }\n",
       "</style>\n",
       "<table border=\"1\" class=\"dataframe\">\n",
       "  <thead>\n",
       "    <tr style=\"text-align: right;\">\n",
       "      <th></th>\n",
       "      <th>sale_time</th>\n",
       "      <th>purchaser_gender</th>\n",
       "      <th>sale_day</th>\n",
       "    </tr>\n",
       "  </thead>\n",
       "  <tbody>\n",
       "    <tr>\n",
       "      <th>0</th>\n",
       "      <td>2012-10-01 01:42:22</td>\n",
       "      <td>female</td>\n",
       "      <td>2012-10-01</td>\n",
       "    </tr>\n",
       "    <tr>\n",
       "      <th>1</th>\n",
       "      <td>2012-10-01 02:24:53</td>\n",
       "      <td>female</td>\n",
       "      <td>2012-10-01</td>\n",
       "    </tr>\n",
       "    <tr>\n",
       "      <th>2</th>\n",
       "      <td>2012-10-01 02:25:40</td>\n",
       "      <td>female</td>\n",
       "      <td>2012-10-01</td>\n",
       "    </tr>\n",
       "    <tr>\n",
       "      <th>3</th>\n",
       "      <td>2012-10-01 02:30:42</td>\n",
       "      <td>female</td>\n",
       "      <td>2012-10-01</td>\n",
       "    </tr>\n",
       "    <tr>\n",
       "      <th>4</th>\n",
       "      <td>2012-10-01 02:51:32</td>\n",
       "      <td>male</td>\n",
       "      <td>2012-10-01</td>\n",
       "    </tr>\n",
       "    <tr>\n",
       "      <th>...</th>\n",
       "      <td>...</td>\n",
       "      <td>...</td>\n",
       "      <td>...</td>\n",
       "    </tr>\n",
       "    <tr>\n",
       "      <th>204324</th>\n",
       "      <td>2013-09-15 23:30:51</td>\n",
       "      <td>female</td>\n",
       "      <td>2013-09-15</td>\n",
       "    </tr>\n",
       "    <tr>\n",
       "      <th>204325</th>\n",
       "      <td>2013-09-15 23:42:02</td>\n",
       "      <td>female</td>\n",
       "      <td>2013-09-15</td>\n",
       "    </tr>\n",
       "    <tr>\n",
       "      <th>204326</th>\n",
       "      <td>2013-09-15 23:43:24</td>\n",
       "      <td>male</td>\n",
       "      <td>2013-09-15</td>\n",
       "    </tr>\n",
       "    <tr>\n",
       "      <th>204327</th>\n",
       "      <td>2013-09-15 23:43:32</td>\n",
       "      <td>male</td>\n",
       "      <td>2013-09-15</td>\n",
       "    </tr>\n",
       "    <tr>\n",
       "      <th>204328</th>\n",
       "      <td>2013-09-15 23:48:47</td>\n",
       "      <td>male</td>\n",
       "      <td>2013-09-15</td>\n",
       "    </tr>\n",
       "  </tbody>\n",
       "</table>\n",
       "<p>204329 rows × 3 columns</p>\n",
       "</div>"
      ],
      "text/plain": [
       "                 sale_time purchaser_gender   sale_day\n",
       "0      2012-10-01 01:42:22           female 2012-10-01\n",
       "1      2012-10-01 02:24:53           female 2012-10-01\n",
       "2      2012-10-01 02:25:40           female 2012-10-01\n",
       "3      2012-10-01 02:30:42           female 2012-10-01\n",
       "4      2012-10-01 02:51:32             male 2012-10-01\n",
       "...                    ...              ...        ...\n",
       "204324 2013-09-15 23:30:51           female 2013-09-15\n",
       "204325 2013-09-15 23:42:02           female 2013-09-15\n",
       "204326 2013-09-15 23:43:24             male 2013-09-15\n",
       "204327 2013-09-15 23:43:32             male 2013-09-15\n",
       "204328 2013-09-15 23:48:47             male 2013-09-15\n",
       "\n",
       "[204329 rows x 3 columns]"
      ]
     },
     "execution_count": 15,
     "metadata": {},
     "output_type": "execute_result"
    }
   ],
   "source": [
    "df['sale_day'] = df.sale_time.dt.floor('D')\n",
    "df"
   ]
  },
  {
   "cell_type": "code",
   "execution_count": 16,
   "id": "e8fb12fd-99c2-463a-be39-9d98cf3338c1",
   "metadata": {},
   "outputs": [
    {
     "data": {
      "text/html": [
       "<div>\n",
       "<style scoped>\n",
       "    .dataframe tbody tr th:only-of-type {\n",
       "        vertical-align: middle;\n",
       "    }\n",
       "\n",
       "    .dataframe tbody tr th {\n",
       "        vertical-align: top;\n",
       "    }\n",
       "\n",
       "    .dataframe thead th {\n",
       "        text-align: right;\n",
       "    }\n",
       "</style>\n",
       "<table border=\"1\" class=\"dataframe\">\n",
       "  <thead>\n",
       "    <tr style=\"text-align: right;\">\n",
       "      <th>purchaser_gender</th>\n",
       "      <th>female</th>\n",
       "      <th>male</th>\n",
       "    </tr>\n",
       "    <tr>\n",
       "      <th>sale_day</th>\n",
       "      <th></th>\n",
       "      <th></th>\n",
       "    </tr>\n",
       "  </thead>\n",
       "  <tbody>\n",
       "    <tr>\n",
       "      <th>2012-10-01</th>\n",
       "      <td>413</td>\n",
       "      <td>101</td>\n",
       "    </tr>\n",
       "    <tr>\n",
       "      <th>2012-10-02</th>\n",
       "      <td>379</td>\n",
       "      <td>103</td>\n",
       "    </tr>\n",
       "    <tr>\n",
       "      <th>2012-10-03</th>\n",
       "      <td>386</td>\n",
       "      <td>113</td>\n",
       "    </tr>\n",
       "    <tr>\n",
       "      <th>2012-10-04</th>\n",
       "      <td>432</td>\n",
       "      <td>114</td>\n",
       "    </tr>\n",
       "    <tr>\n",
       "      <th>2012-10-05</th>\n",
       "      <td>368</td>\n",
       "      <td>108</td>\n",
       "    </tr>\n",
       "    <tr>\n",
       "      <th>...</th>\n",
       "      <td>...</td>\n",
       "      <td>...</td>\n",
       "    </tr>\n",
       "    <tr>\n",
       "      <th>2013-09-11</th>\n",
       "      <td>224</td>\n",
       "      <td>495</td>\n",
       "    </tr>\n",
       "    <tr>\n",
       "      <th>2013-09-12</th>\n",
       "      <td>225</td>\n",
       "      <td>510</td>\n",
       "    </tr>\n",
       "    <tr>\n",
       "      <th>2013-09-13</th>\n",
       "      <td>206</td>\n",
       "      <td>537</td>\n",
       "    </tr>\n",
       "    <tr>\n",
       "      <th>2013-09-14</th>\n",
       "      <td>193</td>\n",
       "      <td>462</td>\n",
       "    </tr>\n",
       "    <tr>\n",
       "      <th>2013-09-15</th>\n",
       "      <td>230</td>\n",
       "      <td>522</td>\n",
       "    </tr>\n",
       "  </tbody>\n",
       "</table>\n",
       "<p>350 rows × 2 columns</p>\n",
       "</div>"
      ],
      "text/plain": [
       "purchaser_gender  female  male\n",
       "sale_day                      \n",
       "2012-10-01           413   101\n",
       "2012-10-02           379   103\n",
       "2012-10-03           386   113\n",
       "2012-10-04           432   114\n",
       "2012-10-05           368   108\n",
       "...                  ...   ...\n",
       "2013-09-11           224   495\n",
       "2013-09-12           225   510\n",
       "2013-09-13           206   537\n",
       "2013-09-14           193   462\n",
       "2013-09-15           230   522\n",
       "\n",
       "[350 rows x 2 columns]"
      ]
     },
     "execution_count": 16,
     "metadata": {},
     "output_type": "execute_result"
    }
   ],
   "source": [
    "crosstab = pd.crosstab(index=df['sale_day'], columns=df['purchaser_gender'])\n",
    "crosstab"
   ]
  },
  {
   "cell_type": "markdown",
   "id": "56516b3c-68b1-449e-9d02-b034f830e861",
   "metadata": {},
   "source": [
    "### Chi-squared test"
   ]
  },
  {
   "cell_type": "code",
   "execution_count": 17,
   "id": "e391ebf1-bbf8-413b-a9f0-3b38d442e4f7",
   "metadata": {},
   "outputs": [
    {
     "name": "stdout",
     "output_type": "stream",
     "text": [
      "chi t-stat: 4.71566093983664\n",
      "p-value: 0.1938417780679236\n"
     ]
    }
   ],
   "source": [
    "from scipy.stats import chi2_contingency\n",
    "\n",
    "chi_sq = chi2_contingency(crosstab.loc['2013-04-28': '2013-05-01'])\n",
    "print('chi t-stat:', chi_sq[0])\n",
    "print('p-value:', chi_sq[1])"
   ]
  },
  {
   "cell_type": "code",
   "execution_count": 18,
   "id": "d0963d6d-cd54-45fd-a075-273babdb794d",
   "metadata": {},
   "outputs": [
    {
     "data": {
      "text/html": [
       "<div>\n",
       "<style scoped>\n",
       "    .dataframe tbody tr th:only-of-type {\n",
       "        vertical-align: middle;\n",
       "    }\n",
       "\n",
       "    .dataframe tbody tr th {\n",
       "        vertical-align: top;\n",
       "    }\n",
       "\n",
       "    .dataframe thead th {\n",
       "        text-align: right;\n",
       "    }\n",
       "</style>\n",
       "<table border=\"1\" class=\"dataframe\">\n",
       "  <thead>\n",
       "    <tr style=\"text-align: right;\">\n",
       "      <th></th>\n",
       "      <th>sale_day</th>\n",
       "      <th>female</th>\n",
       "      <th>male</th>\n",
       "      <th>gender_ratio</th>\n",
       "      <th>count_transactions</th>\n",
       "      <th>prev_day_sale_count</th>\n",
       "    </tr>\n",
       "  </thead>\n",
       "  <tbody>\n",
       "    <tr>\n",
       "      <th>0</th>\n",
       "      <td>2012-10-01</td>\n",
       "      <td>413</td>\n",
       "      <td>101</td>\n",
       "      <td>0.244552</td>\n",
       "      <td>NaN</td>\n",
       "      <td>NaN</td>\n",
       "    </tr>\n",
       "    <tr>\n",
       "      <th>1</th>\n",
       "      <td>2012-10-02</td>\n",
       "      <td>379</td>\n",
       "      <td>103</td>\n",
       "      <td>0.271768</td>\n",
       "      <td>482.0</td>\n",
       "      <td>-32.0</td>\n",
       "    </tr>\n",
       "    <tr>\n",
       "      <th>2</th>\n",
       "      <td>2012-10-03</td>\n",
       "      <td>386</td>\n",
       "      <td>113</td>\n",
       "      <td>0.292746</td>\n",
       "      <td>499.0</td>\n",
       "      <td>17.0</td>\n",
       "    </tr>\n",
       "    <tr>\n",
       "      <th>3</th>\n",
       "      <td>2012-10-04</td>\n",
       "      <td>432</td>\n",
       "      <td>114</td>\n",
       "      <td>0.263889</td>\n",
       "      <td>546.0</td>\n",
       "      <td>47.0</td>\n",
       "    </tr>\n",
       "    <tr>\n",
       "      <th>4</th>\n",
       "      <td>2012-10-05</td>\n",
       "      <td>368</td>\n",
       "      <td>108</td>\n",
       "      <td>0.293478</td>\n",
       "      <td>476.0</td>\n",
       "      <td>-70.0</td>\n",
       "    </tr>\n",
       "    <tr>\n",
       "      <th>...</th>\n",
       "      <td>...</td>\n",
       "      <td>...</td>\n",
       "      <td>...</td>\n",
       "      <td>...</td>\n",
       "      <td>...</td>\n",
       "      <td>...</td>\n",
       "    </tr>\n",
       "    <tr>\n",
       "      <th>345</th>\n",
       "      <td>2013-09-11</td>\n",
       "      <td>224</td>\n",
       "      <td>495</td>\n",
       "      <td>2.209821</td>\n",
       "      <td>719.0</td>\n",
       "      <td>4.0</td>\n",
       "    </tr>\n",
       "    <tr>\n",
       "      <th>346</th>\n",
       "      <td>2013-09-12</td>\n",
       "      <td>225</td>\n",
       "      <td>510</td>\n",
       "      <td>2.266667</td>\n",
       "      <td>735.0</td>\n",
       "      <td>16.0</td>\n",
       "    </tr>\n",
       "    <tr>\n",
       "      <th>347</th>\n",
       "      <td>2013-09-13</td>\n",
       "      <td>206</td>\n",
       "      <td>537</td>\n",
       "      <td>2.606796</td>\n",
       "      <td>743.0</td>\n",
       "      <td>8.0</td>\n",
       "    </tr>\n",
       "    <tr>\n",
       "      <th>348</th>\n",
       "      <td>2013-09-14</td>\n",
       "      <td>193</td>\n",
       "      <td>462</td>\n",
       "      <td>2.393782</td>\n",
       "      <td>655.0</td>\n",
       "      <td>-88.0</td>\n",
       "    </tr>\n",
       "    <tr>\n",
       "      <th>349</th>\n",
       "      <td>2013-09-15</td>\n",
       "      <td>230</td>\n",
       "      <td>522</td>\n",
       "      <td>2.269565</td>\n",
       "      <td>752.0</td>\n",
       "      <td>97.0</td>\n",
       "    </tr>\n",
       "  </tbody>\n",
       "</table>\n",
       "<p>350 rows × 6 columns</p>\n",
       "</div>"
      ],
      "text/plain": [
       "      sale_day  female  male  gender_ratio  count_transactions  \\\n",
       "0   2012-10-01     413   101      0.244552                 NaN   \n",
       "1   2012-10-02     379   103      0.271768               482.0   \n",
       "2   2012-10-03     386   113      0.292746               499.0   \n",
       "3   2012-10-04     432   114      0.263889               546.0   \n",
       "4   2012-10-05     368   108      0.293478               476.0   \n",
       "..         ...     ...   ...           ...                 ...   \n",
       "345 2013-09-11     224   495      2.209821               719.0   \n",
       "346 2013-09-12     225   510      2.266667               735.0   \n",
       "347 2013-09-13     206   537      2.606796               743.0   \n",
       "348 2013-09-14     193   462      2.393782               655.0   \n",
       "349 2013-09-15     230   522      2.269565               752.0   \n",
       "\n",
       "     prev_day_sale_count  \n",
       "0                    NaN  \n",
       "1                  -32.0  \n",
       "2                   17.0  \n",
       "3                   47.0  \n",
       "4                  -70.0  \n",
       "..                   ...  \n",
       "345                  4.0  \n",
       "346                 16.0  \n",
       "347                  8.0  \n",
       "348                -88.0  \n",
       "349                 97.0  \n",
       "\n",
       "[350 rows x 6 columns]"
      ]
     },
     "execution_count": 18,
     "metadata": {},
     "output_type": "execute_result"
    }
   ],
   "source": [
    "crosstab = crosstab.reset_index()\n",
    "crosstab['gender_ratio'] = crosstab.male / crosstab.female\n",
    "\n",
    "crosstab_plot = pd.merge(left=crosstab, right=daily_sales_df, on='sale_day', how='outer')\n",
    "crosstab_plot"
   ]
  },
  {
   "cell_type": "markdown",
   "id": "b3097494-c2a9-4019-abd8-2438cd6551fd",
   "metadata": {},
   "source": [
    "Based on the plot below, the increased trend of the male ratio in the sales amount does not explain the sudden change. This is also supported in the chi-squared test where the increase in sales is not attributed by a change in the quantity of male and female buyers."
   ]
  },
  {
   "cell_type": "code",
   "execution_count": 19,
   "id": "396f16ef-b3ad-481c-a8be-547cdc0d995a",
   "metadata": {},
   "outputs": [
    {
     "data": {
      "text/plain": [
       "Text(0.5, 1.0, 'Daily sales over 50 weeks vs Gender ratio')"
      ]
     },
     "execution_count": 19,
     "metadata": {},
     "output_type": "execute_result"
    },
    {
     "data": {
      "image/png": "[encoded data removed]",
      "text/plain": [
       "<Figure size 432x288 with 2 Axes>"
      ]
     },
     "metadata": {
      "needs_background": "light"
     },
     "output_type": "display_data"
    }
   ],
   "source": [
    "sns.lineplot(data=crosstab_plot, x='sale_day', y='count_transactions', color='tab:blue')\n",
    "ax = plt.twinx()\n",
    "sns.lineplot(data=crosstab_plot, x='sale_day', y='gender_ratio', color='tab:orange', ax=ax)\n",
    "plt.title('Daily sales over 50 weeks vs Gender ratio')"
   ]
  },
  {
   "cell_type": "markdown",
   "id": "af17f800-e2cc-4303-b114-14208c4b1562",
   "metadata": {},
   "source": [
    "# 5. Assume a given day is divided into four dayparts:\n",
    "- night (12:00AM - 6:00AM),\n",
    "- morning (6:00AM - 12:00PM),\n",
    "- afternoon (12:00PM - 6:00PM),\n",
    "- evening (6:00PM - 12:00AM).\n",
    "\n",
    "\n",
    "# What is the percentage of sales in each daypart over all 50 weeks?"
   ]
  },
  {
   "cell_type": "markdown",
   "id": "19e6e785-0341-441e-8bd3-868d20f4c850",
   "metadata": {},
   "source": [
    "Pandas DateTime datatype helps us to get hours in timestamps so we can divide the day into parts according to hours."
   ]
  },
  {
   "cell_type": "code",
   "execution_count": 20,
   "id": "68312a7b-cbac-49ca-bebb-8d29af740cef",
   "metadata": {},
   "outputs": [],
   "source": [
    "# extract sale hour per day in a new column\n",
    "df['sale_hour'] = df.sale_time.dt.ceil('H').dt.hour"
   ]
  },
  {
   "cell_type": "code",
   "execution_count": 21,
   "id": "31d33b5f-1db7-4256-bf49-6d61334a97c8",
   "metadata": {},
   "outputs": [],
   "source": [
    "# segment/categorize the sale hour to each day part in a new column\n",
    "df['sale_day_part'] = pd.cut(df.sale_hour, bins=[0, 6, 12, 18, 24], \n",
    "                             labels=['night', 'morning', 'afternoon','evening'],\n",
    "                             right=False, include_lowest=True)         "
   ]
  },
  {
   "cell_type": "code",
   "execution_count": 22,
   "id": "e1ddc2be-f593-4f22-90f2-f2b178f7c78e",
   "metadata": {},
   "outputs": [],
   "source": [
    "# # Alternatively, define a function to apply sale hour column to decide a part of day based on the mentioned logic\n",
    "\n",
    "# def assign_day_part(sale_hour):\n",
    "#     \"\"\"Assign labels based on sale hour.\"\"\"\n",
    "#     if sale_hour > 6 and sale_hour < 12:\n",
    "#         return 'morning'\n",
    "#     if sale_hour > 12 and sale_hour < 18:\n",
    "#         return 'afternoon'\n",
    "#     if sale_hour > 18 and sale_hour < 24:\n",
    "#         return 'evening'\n",
    "#     if sale_hour > -1 and sale_hour < 6:\n",
    "#         return 'night'"
   ]
  },
  {
   "cell_type": "code",
   "execution_count": 23,
   "id": "e2af8a35-8cbe-420c-bf72-52741db247a1",
   "metadata": {},
   "outputs": [
    {
     "data": {
      "text/html": [
       "<div>\n",
       "<style scoped>\n",
       "    .dataframe tbody tr th:only-of-type {\n",
       "        vertical-align: middle;\n",
       "    }\n",
       "\n",
       "    .dataframe tbody tr th {\n",
       "        vertical-align: top;\n",
       "    }\n",
       "\n",
       "    .dataframe thead th {\n",
       "        text-align: right;\n",
       "    }\n",
       "</style>\n",
       "<table border=\"1\" class=\"dataframe\">\n",
       "  <thead>\n",
       "    <tr style=\"text-align: right;\">\n",
       "      <th></th>\n",
       "      <th>sale_time</th>\n",
       "      <th>purchaser_gender</th>\n",
       "      <th>sale_day</th>\n",
       "      <th>sale_hour</th>\n",
       "      <th>sale_day_part</th>\n",
       "      <th>percent_day_part</th>\n",
       "    </tr>\n",
       "  </thead>\n",
       "  <tbody>\n",
       "    <tr>\n",
       "      <th>0</th>\n",
       "      <td>2012-10-01 01:42:22</td>\n",
       "      <td>female</td>\n",
       "      <td>2012-10-01</td>\n",
       "      <td>2</td>\n",
       "      <td>night</td>\n",
       "      <td>6.639782</td>\n",
       "    </tr>\n",
       "    <tr>\n",
       "      <th>1</th>\n",
       "      <td>2012-10-01 02:24:53</td>\n",
       "      <td>female</td>\n",
       "      <td>2012-10-01</td>\n",
       "      <td>3</td>\n",
       "      <td>night</td>\n",
       "      <td>6.639782</td>\n",
       "    </tr>\n",
       "    <tr>\n",
       "      <th>2</th>\n",
       "      <td>2012-10-01 02:25:40</td>\n",
       "      <td>female</td>\n",
       "      <td>2012-10-01</td>\n",
       "      <td>3</td>\n",
       "      <td>night</td>\n",
       "      <td>6.639782</td>\n",
       "    </tr>\n",
       "    <tr>\n",
       "      <th>3</th>\n",
       "      <td>2012-10-01 02:30:42</td>\n",
       "      <td>female</td>\n",
       "      <td>2012-10-01</td>\n",
       "      <td>3</td>\n",
       "      <td>night</td>\n",
       "      <td>6.639782</td>\n",
       "    </tr>\n",
       "    <tr>\n",
       "      <th>4</th>\n",
       "      <td>2012-10-01 02:51:32</td>\n",
       "      <td>male</td>\n",
       "      <td>2012-10-01</td>\n",
       "      <td>3</td>\n",
       "      <td>night</td>\n",
       "      <td>6.639782</td>\n",
       "    </tr>\n",
       "    <tr>\n",
       "      <th>...</th>\n",
       "      <td>...</td>\n",
       "      <td>...</td>\n",
       "      <td>...</td>\n",
       "      <td>...</td>\n",
       "      <td>...</td>\n",
       "      <td>...</td>\n",
       "    </tr>\n",
       "    <tr>\n",
       "      <th>204324</th>\n",
       "      <td>2013-09-15 23:30:51</td>\n",
       "      <td>female</td>\n",
       "      <td>2013-09-15</td>\n",
       "      <td>0</td>\n",
       "      <td>night</td>\n",
       "      <td>6.639782</td>\n",
       "    </tr>\n",
       "    <tr>\n",
       "      <th>204325</th>\n",
       "      <td>2013-09-15 23:42:02</td>\n",
       "      <td>female</td>\n",
       "      <td>2013-09-15</td>\n",
       "      <td>0</td>\n",
       "      <td>night</td>\n",
       "      <td>6.639782</td>\n",
       "    </tr>\n",
       "    <tr>\n",
       "      <th>204326</th>\n",
       "      <td>2013-09-15 23:43:24</td>\n",
       "      <td>male</td>\n",
       "      <td>2013-09-15</td>\n",
       "      <td>0</td>\n",
       "      <td>night</td>\n",
       "      <td>6.639782</td>\n",
       "    </tr>\n",
       "    <tr>\n",
       "      <th>204327</th>\n",
       "      <td>2013-09-15 23:43:32</td>\n",
       "      <td>male</td>\n",
       "      <td>2013-09-15</td>\n",
       "      <td>0</td>\n",
       "      <td>night</td>\n",
       "      <td>6.639782</td>\n",
       "    </tr>\n",
       "    <tr>\n",
       "      <th>204328</th>\n",
       "      <td>2013-09-15 23:48:47</td>\n",
       "      <td>male</td>\n",
       "      <td>2013-09-15</td>\n",
       "      <td>0</td>\n",
       "      <td>night</td>\n",
       "      <td>6.639782</td>\n",
       "    </tr>\n",
       "  </tbody>\n",
       "</table>\n",
       "<p>204329 rows × 6 columns</p>\n",
       "</div>"
      ],
      "text/plain": [
       "                 sale_time purchaser_gender   sale_day  sale_hour  \\\n",
       "0      2012-10-01 01:42:22           female 2012-10-01          2   \n",
       "1      2012-10-01 02:24:53           female 2012-10-01          3   \n",
       "2      2012-10-01 02:25:40           female 2012-10-01          3   \n",
       "3      2012-10-01 02:30:42           female 2012-10-01          3   \n",
       "4      2012-10-01 02:51:32             male 2012-10-01          3   \n",
       "...                    ...              ...        ...        ...   \n",
       "204324 2013-09-15 23:30:51           female 2013-09-15          0   \n",
       "204325 2013-09-15 23:42:02           female 2013-09-15          0   \n",
       "204326 2013-09-15 23:43:24             male 2013-09-15          0   \n",
       "204327 2013-09-15 23:43:32             male 2013-09-15          0   \n",
       "204328 2013-09-15 23:48:47             male 2013-09-15          0   \n",
       "\n",
       "       sale_day_part  percent_day_part  \n",
       "0              night          6.639782  \n",
       "1              night          6.639782  \n",
       "2              night          6.639782  \n",
       "3              night          6.639782  \n",
       "4              night          6.639782  \n",
       "...              ...               ...  \n",
       "204324         night          6.639782  \n",
       "204325         night          6.639782  \n",
       "204326         night          6.639782  \n",
       "204327         night          6.639782  \n",
       "204328         night          6.639782  \n",
       "\n",
       "[204329 rows x 6 columns]"
      ]
     },
     "execution_count": 23,
     "metadata": {},
     "output_type": "execute_result"
    }
   ],
   "source": [
    "df['percent_day_part'] = df.groupby('sale_day_part')['sale_day_part'].transform('size') / 204329 * 100\n",
    "df"
   ]
  },
  {
   "cell_type": "code",
   "execution_count": 24,
   "id": "b78907cc-1836-4989-be48-c49f1fe79d82",
   "metadata": {},
   "outputs": [
    {
     "data": {
      "text/html": [
       "<div>\n",
       "<style scoped>\n",
       "    .dataframe tbody tr th:only-of-type {\n",
       "        vertical-align: middle;\n",
       "    }\n",
       "\n",
       "    .dataframe tbody tr th {\n",
       "        vertical-align: top;\n",
       "    }\n",
       "\n",
       "    .dataframe thead th {\n",
       "        text-align: right;\n",
       "    }\n",
       "</style>\n",
       "<table border=\"1\" class=\"dataframe\">\n",
       "  <thead>\n",
       "    <tr style=\"text-align: right;\">\n",
       "      <th></th>\n",
       "      <th>sale_day_part</th>\n",
       "      <th>count_day_part</th>\n",
       "      <th>percent_day_part</th>\n",
       "    </tr>\n",
       "  </thead>\n",
       "  <tbody>\n",
       "    <tr>\n",
       "      <th>0</th>\n",
       "      <td>night</td>\n",
       "      <td>13567</td>\n",
       "      <td>6.639782</td>\n",
       "    </tr>\n",
       "    <tr>\n",
       "      <th>1</th>\n",
       "      <td>morning</td>\n",
       "      <td>56080</td>\n",
       "      <td>27.445933</td>\n",
       "    </tr>\n",
       "    <tr>\n",
       "      <th>2</th>\n",
       "      <td>afternoon</td>\n",
       "      <td>81159</td>\n",
       "      <td>39.719766</td>\n",
       "    </tr>\n",
       "    <tr>\n",
       "      <th>3</th>\n",
       "      <td>evening</td>\n",
       "      <td>53523</td>\n",
       "      <td>26.194520</td>\n",
       "    </tr>\n",
       "  </tbody>\n",
       "</table>\n",
       "</div>"
      ],
      "text/plain": [
       "  sale_day_part  count_day_part  percent_day_part\n",
       "0         night           13567          6.639782\n",
       "1       morning           56080         27.445933\n",
       "2     afternoon           81159         39.719766\n",
       "3       evening           53523         26.194520"
      ]
     },
     "execution_count": 24,
     "metadata": {},
     "output_type": "execute_result"
    }
   ],
   "source": [
    "# same as above in a dataframe with only the aggregated groups\n",
    "df_percent_day_part = df.groupby(df['sale_day_part']).size().reset_index(name='count_day_part')\n",
    "df_percent_day_part['percent_day_part'] = df_percent_day_part['count_day_part'] / df_percent_day_part['count_day_part'].sum() *100\n",
    "\n",
    "df_percent_day_part"
   ]
  },
  {
   "cell_type": "code",
   "execution_count": 25,
   "id": "73427abd-2125-4767-a298-fcd34e67ed89",
   "metadata": {},
   "outputs": [
    {
     "data": {
      "text/plain": [
       "<AxesSubplot:xlabel='sale_day_part', ylabel='percent_day_part'>"
      ]
     },
     "execution_count": 25,
     "metadata": {},
     "output_type": "execute_result"
    },
    {
     "data": {
      "image/png": "[encoded data removed]",
      "text/plain": [
       "<Figure size 432x288 with 1 Axes>"
      ]
     },
     "metadata": {
      "needs_background": "light"
     },
     "output_type": "display_data"
    }
   ],
   "source": [
    "sns.barplot(data=df, x='sale_day_part', y='percent_day_part', order=['morning', 'evening', 'afternoon', 'night'])"
   ]
  },
  {
   "cell_type": "markdown",
   "id": "f1664316-c42a-4af9-af05-e680c7177e48",
   "metadata": {},
   "source": [
    "The day part with most sales is afternon."
   ]
  }
 ],
 "metadata": {
  "kernelspec": {
   "display_name": "Python 3 (ipykernel)",
   "language": "python",
   "name": "python3"
  },
  "language_info": {
   "codemirror_mode": {
    "name": "ipython",
    "version": 3
   },
   "file_extension": ".py",
   "mimetype": "text/x-python",
   "name": "python",
   "nbconvert_exporter": "python",
   "pygments_lexer": "ipython3",
   "version": "3.9.7"
  }
 },
 "nbformat": 4,
 "nbformat_minor": 5
}
